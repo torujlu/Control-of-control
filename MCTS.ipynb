{
 "cells": [
  {
   "cell_type": "code",
   "execution_count": 1,
   "metadata": {},
   "outputs": [],
   "source": [
    "import numpy as np\n",
    "from mcts import MCTS\n",
    "from tangram import Tangram\n",
    "from mctstree import MCTSTree\n",
    "%matplotlib inline"
   ]
  },
  {
   "cell_type": "code",
   "execution_count": 2,
   "metadata": {},
   "outputs": [],
   "source": [
    "n_simuls=10\n",
    "c = 1.0\n",
    "gamma = 0.9\n",
    "\n",
    "seed = 543\n",
    "n_grid = 10\n",
    "n_blocks = 3\n",
    "n_possible_blocks = 5"
   ]
  },
  {
   "cell_type": "code",
   "execution_count": 3,
   "metadata": {},
   "outputs": [],
   "source": [
    "mcts = MCTS()\n",
    "env = Tangram(seed, n_grid, n_blocks, n_possible_blocks)"
   ]
  },
  {
   "cell_type": "code",
   "execution_count": 13,
   "metadata": {},
   "outputs": [
    {
     "data": {
      "image/png": "[encoded data removed]",
      "text/plain": [
       "<Figure size 432x288 with 2 Axes>"
      ]
     },
     "metadata": {
      "needs_background": "light"
     },
     "output_type": "display_data"
    },
    {
     "data": {
      "image/png": "[encoded data removed]",
      "text/plain": [
       "<Figure size 432x288 with 2 Axes>"
      ]
     },
     "metadata": {
      "needs_background": "light"
     },
     "output_type": "display_data"
    },
    {
     "data": {
      "image/png": "[encoded data removed]",
      "text/plain": [
       "<Figure size 432x288 with 2 Axes>"
      ]
     },
     "metadata": {
      "needs_background": "light"
     },
     "output_type": "display_data"
    },
    {
     "data": {
      "image/png": "[encoded data removed]",
      "text/plain": [
       "<Figure size 432x288 with 2 Axes>"
      ]
     },
     "metadata": {
      "needs_background": "light"
     },
     "output_type": "display_data"
    },
    {
     "name": "stdout",
     "output_type": "stream",
     "text": [
      "Reward: 1.0\n"
     ]
    }
   ],
   "source": [
    "env.reset()\n",
    "tree = MCTSTree(env)\n",
    "done = False\n",
    "while not done:\n",
    "    env.render()\n",
    "    action = mcts.run_simulation(tree, n_simuls, c, gamma)\n",
    "    block = action//n_grid//n_grid\n",
    "    y = (action - block*n_grid*n_grid)//n_grid\n",
    "    x = action - block*n_grid*n_grid - y*n_grid\n",
    "    env_action = np.array([block,y,x])\n",
    "    env_state, env_reward, done = env.step(env_action)\n",
    "    for (child_id, child) in tree.get_root().get_children():\n",
    "        if child_id == action:\n",
    "            child.set_reward(env_reward)\n",
    "            child.set_done(done)\n",
    "            child.set_action_mask(tree.get_env().get_mask())\n",
    "            tree.set_root(child)\n",
    "        else:\n",
    "            child.delete()\n",
    "env.render()\n",
    "print(\"Reward: {}\".format(env_reward))"
   ]
  }
 ],
 "metadata": {
  "interpreter": {
   "hash": "cd80e2a333356e0627c76a098ec269248fb9c7e6d0398da160cf165fdbf4bf09"
  },
  "kernelspec": {
   "display_name": "Python 3.9.5 64-bit ('base': conda)",
   "language": "python",
   "name": "python3"
  },
  "language_info": {
   "codemirror_mode": {
    "name": "ipython",
    "version": 3
   },
   "file_extension": ".py",
   "mimetype": "text/x-python",
   "name": "python",
   "nbconvert_exporter": "python",
   "pygments_lexer": "ipython3",
   "version": "3.9.5"
  },
  "orig_nbformat": 4
 },
 "nbformat": 4,
 "nbformat_minor": 2
}
