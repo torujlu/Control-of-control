{
 "cells": [
  {
   "cell_type": "code",
   "execution_count": 1,
   "metadata": {},
   "outputs": [],
   "source": [
    "import numpy as np\n",
    "import torch\n",
    "import os\n",
    "from pathlib import Path\n",
    "import glob\n",
    "\n",
    "from tangram import Tangram\n",
    "from mctsnettree import MCTSnetTree\n",
    "%matplotlib inline"
   ]
  },
  {
   "cell_type": "code",
   "execution_count": 2,
   "metadata": {},
   "outputs": [
    {
     "name": "stdout",
     "output_type": "stream",
     "text": [
      "serialization_path:  ./models\n"
     ]
    }
   ],
   "source": [
    "torch.set_default_dtype(torch.float64)\n",
    "\n",
    "seed=123\n",
    "render=False\n",
    "gpu=True\n",
    "\n",
    "n_grid = 10\n",
    "n_blocks = 3\n",
    "n_possible_blocks = 5\n",
    "embedding_size = 8\n",
    "n_simuls = 10 #25\n",
    "n_evals = 10\n",
    "\n",
    "serialization_path = './models'\n",
    "print('serialization_path: ',serialization_path)\n",
    "# create folder \n",
    "Path(serialization_path).mkdir(parents=True, exist_ok=True)"
   ]
  },
  {
   "cell_type": "code",
   "execution_count": 3,
   "metadata": {},
   "outputs": [
    {
     "name": "stdout",
     "output_type": "stream",
     "text": [
      "Running on Device =  cpu\n",
      "Loaded MCTSnet from ./models/mctsnet_e70000_p0.8333912764112664.pt\n"
     ]
    }
   ],
   "source": [
    "device = torch.device(\"cuda\" if torch.cuda.is_available() else \"cpu\")\n",
    "if gpu and torch.cuda.is_available():\n",
    "    torch.cuda.manual_seed_all(seed)\n",
    "else:\n",
    "    torch.manual_seed(seed)\n",
    "    device = \"cpu\"\n",
    "    if gpu:\n",
    "        gpu = False\n",
    "torch.set_num_threads(os.cpu_count() - 1)\n",
    "print(\"Running on Device = \", device)\n",
    "filesave_paths = sorted(glob.glob(f'{serialization_path}/mctsnet_e*'))\n",
    "mctsnet = torch.load(open(filesave_paths[-1],'rb'), map_location=torch.device('cpu'))\n",
    "n_episodes = int(filesave_paths[-1][18:23])\n",
    "running_reward = float(filesave_paths[-1][25:].replace('.pt',''))\n",
    "print('Loaded MCTSnet from '+ filesave_paths[-1])\n",
    "seed += n_episodes\n",
    "env = Tangram(seed, n_grid, n_blocks, n_possible_blocks)"
   ]
  },
  {
   "cell_type": "code",
   "execution_count": 4,
   "metadata": {},
   "outputs": [
    {
     "name": "stdout",
     "output_type": "stream",
     "text": [
      "6.0\n",
      "4.0\n",
      "1.0\n",
      "14.0\n",
      "6.0\n",
      "1.0\n",
      "7.0\n",
      "4.0\n",
      "1.0\n",
      "11.0\n",
      "4.0\n",
      "1.0\n",
      "17.0\n",
      "2.0\n",
      "1.0\n",
      "9.0\n",
      "3.0\n",
      "1.0\n",
      "15.0\n",
      "2.0\n",
      "11.0\n",
      "5.0\n",
      "1.0\n",
      "8.0\n",
      "2.0\n",
      "1.0\n",
      "16.0\n",
      "8.0\n",
      "1.0\n",
      "Success rate: 90.0%\n"
     ]
    }
   ],
   "source": [
    "mctsnet.eval()\n",
    "\n",
    "with torch.no_grad():\n",
    "    success = 0\n",
    "    for evanl_num in range(1,n_evals+1):\n",
    "        env.reset()\n",
    "        tree = MCTSnetTree(env, embedding_size, device)\n",
    "        done = False\n",
    "        while not done:\n",
    "            if render:\n",
    "                env.render()\n",
    "            probs, probs_mask = mctsnet(tree, n_simuls)\n",
    "            print(np.sum(probs_mask))\n",
    "            probs = torch.squeeze(probs)\n",
    "            probs_mask = torch.tensor(probs_mask).to(device)\n",
    "            masked_probs = probs*probs_mask \n",
    "            if ~np.any(masked_probs.clone().cpu().detach().numpy()):\n",
    "                masked_probs += probs_mask\n",
    "            #sample_probs = masked_probs/torch.sum(masked_probs)\n",
    "            #m_sample = Categorical(sample_probs)\n",
    "            #action = m_sample.sample().item()\n",
    "            action = torch.argmax(masked_probs).item()\n",
    "            block = action//n_grid//n_grid\n",
    "            y = (action - block*n_grid*n_grid)//n_grid\n",
    "            x = action - block*n_grid*n_grid - y*n_grid\n",
    "            env_action = np.array([block,y,x])\n",
    "            env_state, env_reward, done = env.step(env_action)\n",
    "\n",
    "            state = torch.unsqueeze(torch.tensor(env_state[:2]), 0).to(device)\n",
    "            reward = torch.unsqueeze(torch.tensor([env_reward]), 0).to(device)\n",
    "            for (child_id, child) in tree.get_root().get_children():\n",
    "                if child_id == action:\n",
    "                    child.set_state(state)\n",
    "                    child.set_reward(reward)\n",
    "                    child.set_done(done)\n",
    "                    child.set_probs(probs)\n",
    "                    child.set_probs_mask(tree.get_env().get_mask())\n",
    "                    tree.set_root(child)\n",
    "                    break\n",
    "        if env_reward == 1:\n",
    "            success += 1\n",
    "        if render:\n",
    "            env.render()\n",
    "    print(\"Success rate: {}%\".format(success*100/n_evals))"
   ]
  }
 ],
 "metadata": {
  "interpreter": {
   "hash": "cd80e2a333356e0627c76a098ec269248fb9c7e6d0398da160cf165fdbf4bf09"
  },
  "kernelspec": {
   "display_name": "Python 3.9.5 64-bit ('base': conda)",
   "language": "python",
   "name": "python3"
  },
  "language_info": {
   "codemirror_mode": {
    "name": "ipython",
    "version": 3
   },
   "file_extension": ".py",
   "mimetype": "text/x-python",
   "name": "python",
   "nbconvert_exporter": "python",
   "pygments_lexer": "ipython3",
   "version": "3.9.5"
  },
  "orig_nbformat": 4
 },
 "nbformat": 4,
 "nbformat_minor": 2
}
